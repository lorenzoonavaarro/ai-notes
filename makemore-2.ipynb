{
 "cells": [
  {
   "cell_type": "code",
   "execution_count": 1,
   "id": "4fa9a4dc-83ce-4c0e-b6b8-7be5f47a8e8f",
   "metadata": {},
   "outputs": [],
   "source": [
    "import torch\n",
    "import torch.nn.functional as F\n",
    "import matplotlib.pyplot as plt\n",
    "%matplotlib inline"
   ]
  },
  {
   "cell_type": "code",
   "execution_count": 2,
   "id": "a6d59530-6ba7-406b-a049-4c7cabbfc711",
   "metadata": {},
   "outputs": [],
   "source": [
    "words = open('./names.txt').read().splitlines()"
   ]
  },
  {
   "cell_type": "code",
   "execution_count": 3,
   "id": "9445cc5c-5bb2-462e-a98c-1a635b2ed145",
   "metadata": {},
   "outputs": [
    {
     "data": {
      "text/plain": [
       "32033"
      ]
     },
     "execution_count": 3,
     "metadata": {},
     "output_type": "execute_result"
    }
   ],
   "source": [
    "len(words)"
   ]
  },
  {
   "cell_type": "code",
   "execution_count": 4,
   "id": "7fff92ee-45cd-4b0a-bc6d-fac41803c7ec",
   "metadata": {},
   "outputs": [],
   "source": [
    "chars = sorted(list(set(''.join(words))))\n",
    "stoi = {s:i + 1 for i,s in enumerate(chars)}\n",
    "stoi['.'] = 0\n",
    "itos = {i:s for s,i in stoi.items()}"
   ]
  },
  {
   "cell_type": "code",
   "execution_count": 5,
   "id": "8a0fcc78-e5f0-4729-8d84-1c5162464248",
   "metadata": {},
   "outputs": [
    {
     "name": "stdout",
     "output_type": "stream",
     "text": [
      "... -----> e\n",
      "..e -----> m\n",
      ".em -----> m\n",
      "emm -----> a\n",
      "mma -----> .\n",
      "... -----> o\n",
      "..o -----> l\n",
      ".ol -----> i\n",
      "oli -----> v\n",
      "liv -----> i\n",
      "ivi -----> a\n",
      "via -----> .\n",
      "... -----> a\n",
      "..a -----> v\n",
      ".av -----> a\n",
      "ava -----> .\n",
      "... -----> i\n",
      "..i -----> s\n",
      ".is -----> a\n",
      "isa -----> b\n",
      "sab -----> e\n",
      "abe -----> l\n",
      "bel -----> l\n",
      "ell -----> a\n",
      "lla -----> .\n",
      "... -----> s\n",
      "..s -----> o\n",
      ".so -----> p\n",
      "sop -----> h\n",
      "oph -----> i\n",
      "phi -----> a\n",
      "hia -----> .\n"
     ]
    }
   ],
   "source": [
    "# building the dataset\n",
    "\n",
    "block_size = 3 # context length: how many characters do we take to predict the next one?\n",
    "X, Y = [], []\n",
    "\n",
    "for w in words[:5]:\n",
    "    context = [0] * block_size\n",
    "    for ch in w + '.':\n",
    "        ix = stoi[ch]\n",
    "        # inputs for the NN\n",
    "        X.append(context)\n",
    "        # labels\n",
    "        Y.append(ix)\n",
    "        print(''.join(itos[i] for i in context), '----->', itos[ix])\n",
    "        context = context[1:] + [ix] # crop and append\n",
    "\n",
    "X = torch.tensor(X)\n",
    "Y = torch.tensor(Y)"
   ]
  },
  {
   "cell_type": "code",
   "execution_count": 6,
   "id": "881b061a-b7b6-4583-9759-c62d5a86e4e2",
   "metadata": {},
   "outputs": [
    {
     "data": {
      "text/plain": [
       "(torch.Size([32, 3]), torch.int64, torch.Size([32]), torch.int64)"
      ]
     },
     "execution_count": 6,
     "metadata": {},
     "output_type": "execute_result"
    }
   ],
   "source": [
    "X.shape, X.dtype, Y.shape, Y.dtype"
   ]
  },
  {
   "cell_type": "markdown",
   "id": "00384ba4-9a8c-4142-ac19-5b57b9bf1e15",
   "metadata": {},
   "source": [
    "#### Building the Embedding table\n",
    "\n",
    "27 possible characters\n",
    "\n",
    "2 dimensional space"
   ]
  },
  {
   "cell_type": "code",
   "execution_count": 7,
   "id": "5d2bd062-788a-4ade-923a-2b3a87c8cfbb",
   "metadata": {},
   "outputs": [
    {
     "data": {
      "text/plain": [
       "tensor([[-0.5307,  0.7660],\n",
       "        [ 1.7500,  1.0730],\n",
       "        [-1.0957, -1.7143],\n",
       "        [-0.7296, -1.2371],\n",
       "        [ 1.4910,  0.2870],\n",
       "        [-1.1985, -0.0122],\n",
       "        [-0.3911,  0.1643],\n",
       "        [ 1.8135, -0.6466],\n",
       "        [ 1.3510,  1.4806],\n",
       "        [-0.4878,  0.2521],\n",
       "        [-2.3165, -1.1246],\n",
       "        [ 0.7617,  0.3252],\n",
       "        [ 0.2554,  0.3870],\n",
       "        [ 0.4926, -0.4814],\n",
       "        [ 1.6519, -1.7160],\n",
       "        [ 0.2935, -0.1889],\n",
       "        [ 0.1316,  1.9305],\n",
       "        [ 0.3195,  1.1404],\n",
       "        [-0.2963, -0.0370],\n",
       "        [-0.4838, -0.3150],\n",
       "        [ 0.6331, -0.7384],\n",
       "        [-1.3462, -1.6900],\n",
       "        [-1.6964,  0.7554],\n",
       "        [-0.0104,  0.2560],\n",
       "        [ 0.2085,  0.8774],\n",
       "        [-0.6445,  1.0307],\n",
       "        [ 0.0355, -0.7504]])"
      ]
     },
     "execution_count": 7,
     "metadata": {},
     "output_type": "execute_result"
    }
   ],
   "source": [
    "C = torch.randn((27,2))\n",
    "C"
   ]
  },
  {
   "cell_type": "code",
   "execution_count": 8,
   "id": "d7d7d448-32d0-4920-aa90-984c25309fba",
   "metadata": {},
   "outputs": [
    {
     "data": {
      "text/plain": [
       "tensor([-1.1985, -0.0122])"
      ]
     },
     "execution_count": 8,
     "metadata": {},
     "output_type": "execute_result"
    }
   ],
   "source": [
    "# one integer embedding\n",
    "C[5]"
   ]
  },
  {
   "cell_type": "code",
   "execution_count": 9,
   "id": "7b1089bd-b4b0-43f1-8367-7a5d6cc0779b",
   "metadata": {},
   "outputs": [
    {
     "data": {
      "text/plain": [
       "tensor([-1.1985, -0.0122])"
      ]
     },
     "execution_count": 9,
     "metadata": {},
     "output_type": "execute_result"
    }
   ],
   "source": [
    "# prev. lecture method: one-hot encoding for the input\n",
    "F.one_hot(torch.tensor(5), num_classes=27).float() @ C"
   ]
  },
  {
   "cell_type": "code",
   "execution_count": 10,
   "id": "0f2a910f-33cc-43f0-ae87-79c2b362850b",
   "metadata": {},
   "outputs": [
    {
     "data": {
      "text/plain": [
       "tensor([[[-0.5307,  0.7660],\n",
       "         [-0.5307,  0.7660],\n",
       "         [-0.5307,  0.7660]],\n",
       "\n",
       "        [[-0.5307,  0.7660],\n",
       "         [-0.5307,  0.7660],\n",
       "         [-1.1985, -0.0122]],\n",
       "\n",
       "        [[-0.5307,  0.7660],\n",
       "         [-1.1985, -0.0122],\n",
       "         [ 0.4926, -0.4814]],\n",
       "\n",
       "        [[-1.1985, -0.0122],\n",
       "         [ 0.4926, -0.4814],\n",
       "         [ 0.4926, -0.4814]],\n",
       "\n",
       "        [[ 0.4926, -0.4814],\n",
       "         [ 0.4926, -0.4814],\n",
       "         [ 1.7500,  1.0730]],\n",
       "\n",
       "        [[-0.5307,  0.7660],\n",
       "         [-0.5307,  0.7660],\n",
       "         [-0.5307,  0.7660]],\n",
       "\n",
       "        [[-0.5307,  0.7660],\n",
       "         [-0.5307,  0.7660],\n",
       "         [ 0.2935, -0.1889]],\n",
       "\n",
       "        [[-0.5307,  0.7660],\n",
       "         [ 0.2935, -0.1889],\n",
       "         [ 0.2554,  0.3870]],\n",
       "\n",
       "        [[ 0.2935, -0.1889],\n",
       "         [ 0.2554,  0.3870],\n",
       "         [-0.4878,  0.2521]],\n",
       "\n",
       "        [[ 0.2554,  0.3870],\n",
       "         [-0.4878,  0.2521],\n",
       "         [-1.6964,  0.7554]],\n",
       "\n",
       "        [[-0.4878,  0.2521],\n",
       "         [-1.6964,  0.7554],\n",
       "         [-0.4878,  0.2521]],\n",
       "\n",
       "        [[-1.6964,  0.7554],\n",
       "         [-0.4878,  0.2521],\n",
       "         [ 1.7500,  1.0730]],\n",
       "\n",
       "        [[-0.5307,  0.7660],\n",
       "         [-0.5307,  0.7660],\n",
       "         [-0.5307,  0.7660]],\n",
       "\n",
       "        [[-0.5307,  0.7660],\n",
       "         [-0.5307,  0.7660],\n",
       "         [ 1.7500,  1.0730]],\n",
       "\n",
       "        [[-0.5307,  0.7660],\n",
       "         [ 1.7500,  1.0730],\n",
       "         [-1.6964,  0.7554]],\n",
       "\n",
       "        [[ 1.7500,  1.0730],\n",
       "         [-1.6964,  0.7554],\n",
       "         [ 1.7500,  1.0730]],\n",
       "\n",
       "        [[-0.5307,  0.7660],\n",
       "         [-0.5307,  0.7660],\n",
       "         [-0.5307,  0.7660]],\n",
       "\n",
       "        [[-0.5307,  0.7660],\n",
       "         [-0.5307,  0.7660],\n",
       "         [-0.4878,  0.2521]],\n",
       "\n",
       "        [[-0.5307,  0.7660],\n",
       "         [-0.4878,  0.2521],\n",
       "         [-0.4838, -0.3150]],\n",
       "\n",
       "        [[-0.4878,  0.2521],\n",
       "         [-0.4838, -0.3150],\n",
       "         [ 1.7500,  1.0730]],\n",
       "\n",
       "        [[-0.4838, -0.3150],\n",
       "         [ 1.7500,  1.0730],\n",
       "         [-1.0957, -1.7143]],\n",
       "\n",
       "        [[ 1.7500,  1.0730],\n",
       "         [-1.0957, -1.7143],\n",
       "         [-1.1985, -0.0122]],\n",
       "\n",
       "        [[-1.0957, -1.7143],\n",
       "         [-1.1985, -0.0122],\n",
       "         [ 0.2554,  0.3870]],\n",
       "\n",
       "        [[-1.1985, -0.0122],\n",
       "         [ 0.2554,  0.3870],\n",
       "         [ 0.2554,  0.3870]],\n",
       "\n",
       "        [[ 0.2554,  0.3870],\n",
       "         [ 0.2554,  0.3870],\n",
       "         [ 1.7500,  1.0730]],\n",
       "\n",
       "        [[-0.5307,  0.7660],\n",
       "         [-0.5307,  0.7660],\n",
       "         [-0.5307,  0.7660]],\n",
       "\n",
       "        [[-0.5307,  0.7660],\n",
       "         [-0.5307,  0.7660],\n",
       "         [-0.4838, -0.3150]],\n",
       "\n",
       "        [[-0.5307,  0.7660],\n",
       "         [-0.4838, -0.3150],\n",
       "         [ 0.2935, -0.1889]],\n",
       "\n",
       "        [[-0.4838, -0.3150],\n",
       "         [ 0.2935, -0.1889],\n",
       "         [ 0.1316,  1.9305]],\n",
       "\n",
       "        [[ 0.2935, -0.1889],\n",
       "         [ 0.1316,  1.9305],\n",
       "         [ 1.3510,  1.4806]],\n",
       "\n",
       "        [[ 0.1316,  1.9305],\n",
       "         [ 1.3510,  1.4806],\n",
       "         [-0.4878,  0.2521]],\n",
       "\n",
       "        [[ 1.3510,  1.4806],\n",
       "         [-0.4878,  0.2521],\n",
       "         [ 1.7500,  1.0730]]])"
      ]
     },
     "execution_count": 10,
     "metadata": {},
     "output_type": "execute_result"
    }
   ],
   "source": [
    "# embedding one integer is easy, but simultaneously is quite complex\n",
    "C[X]"
   ]
  },
  {
   "cell_type": "code",
   "execution_count": 11,
   "id": "5c13c0f0-defd-48e7-b9f8-3534265214c7",
   "metadata": {},
   "outputs": [
    {
     "data": {
      "text/plain": [
       "torch.Size([32, 3, 2])"
      ]
     },
     "execution_count": 11,
     "metadata": {},
     "output_type": "execute_result"
    }
   ],
   "source": [
    "C[X].shape"
   ]
  },
  {
   "cell_type": "code",
   "execution_count": 12,
   "id": "66651d57-9cf6-4790-b402-089de00ea6e7",
   "metadata": {},
   "outputs": [
    {
     "data": {
      "text/plain": [
       "tensor([1.7500, 1.0730])"
      ]
     },
     "execution_count": 12,
     "metadata": {},
     "output_type": "execute_result"
    }
   ],
   "source": [
    "C[X][13,2]"
   ]
  },
  {
   "cell_type": "code",
   "execution_count": 13,
   "id": "5f7ad6f6-1245-4464-b1a1-e7e148745432",
   "metadata": {},
   "outputs": [
    {
     "data": {
      "text/plain": [
       "torch.Size([32, 3, 2])"
      ]
     },
     "execution_count": 13,
     "metadata": {},
     "output_type": "execute_result"
    }
   ],
   "source": [
    "emb = C[X]\n",
    "emb.shape"
   ]
  },
  {
   "cell_type": "code",
   "execution_count": 14,
   "id": "71edc6f2-cd9e-4388-a3fd-631289f83408",
   "metadata": {},
   "outputs": [
    {
     "data": {
      "text/plain": [
       "tensor([[-0.5307,  0.7660],\n",
       "        [-0.5307,  0.7660],\n",
       "        [-0.5307,  0.7660]])"
      ]
     },
     "execution_count": 14,
     "metadata": {},
     "output_type": "execute_result"
    }
   ],
   "source": [
    "emb[0]"
   ]
  },
  {
   "cell_type": "markdown",
   "id": "073361e8-a607-45bc-91d5-1027ab5674f0",
   "metadata": {},
   "source": [
    "#### Building the hidden layer"
   ]
  },
  {
   "cell_type": "code",
   "execution_count": 15,
   "id": "7c80f131-c521-4426-9ec0-0fd3dc8df88a",
   "metadata": {},
   "outputs": [],
   "source": [
    "W1 = torch.randn((6,100))\n",
    "b1 = torch.randn(100)"
   ]
  },
  {
   "cell_type": "code",
   "execution_count": 16,
   "id": "ac0de69b-973f-44ff-8026-6ce3af28d6b7",
   "metadata": {},
   "outputs": [],
   "source": [
    "h = torch.tanh(emb.view(-1,6) @ W1 + b1)# the -1 infers the number of elements"
   ]
  },
  {
   "cell_type": "code",
   "execution_count": 17,
   "id": "6bf5f3f3-56d3-4193-9ba7-47732b454793",
   "metadata": {},
   "outputs": [
    {
     "data": {
      "text/plain": [
       "tensor([[ 0.8879,  0.9848,  0.9971,  ..., -0.9713, -0.8866,  0.9075],\n",
       "        [ 0.5855,  0.9477,  0.9746,  ..., -0.9842, -0.7439,  0.9727],\n",
       "        [-0.2427, -0.7997,  0.1473,  ..., -0.2374, -0.5185,  0.9241],\n",
       "        ...,\n",
       "        [ 0.9998,  0.7438,  0.9969,  ..., -0.8692, -0.9468,  0.6833],\n",
       "        [ 0.9931,  0.9991, -0.6982,  ...,  0.9699, -0.9749,  0.9876],\n",
       "        [ 0.9994,  0.3470, -0.1610,  ...,  0.9627, -0.9550, -0.4018]])"
      ]
     },
     "execution_count": 17,
     "metadata": {},
     "output_type": "execute_result"
    }
   ],
   "source": [
    "h # values between -1 and 1"
   ]
  },
  {
   "cell_type": "code",
   "execution_count": 18,
   "id": "462652d7-29de-48ca-a9f4-e9f6255e0f7d",
   "metadata": {},
   "outputs": [
    {
     "data": {
      "text/plain": [
       "torch.Size([32, 100])"
      ]
     },
     "execution_count": 18,
     "metadata": {},
     "output_type": "execute_result"
    }
   ],
   "source": [
    "h.shape"
   ]
  },
  {
   "cell_type": "markdown",
   "id": "9116fade-4ace-4598-8090-046c4e6eba0b",
   "metadata": {},
   "source": [
    "#### Creating the last layer"
   ]
  },
  {
   "cell_type": "code",
   "execution_count": 19,
   "id": "2ba52611-f6f3-4231-a4f6-4e41be14b752",
   "metadata": {},
   "outputs": [],
   "source": [
    "# 100 for the layer defined as hyperparameter\n",
    "# 27 possible values \n",
    "W2 = torch.randn((100,27))\n",
    "b2 = torch.randn(27)"
   ]
  },
  {
   "cell_type": "code",
   "execution_count": 20,
   "id": "0d4fca67-ef45-471c-9447-fcaa048eab62",
   "metadata": {},
   "outputs": [],
   "source": [
    "logits = h @ W2 + b2"
   ]
  },
  {
   "cell_type": "code",
   "execution_count": 21,
   "id": "d621db93-abf6-4487-82b4-442680f57f84",
   "metadata": {},
   "outputs": [
    {
     "data": {
      "text/plain": [
       "torch.Size([32, 27])"
      ]
     },
     "execution_count": 21,
     "metadata": {},
     "output_type": "execute_result"
    }
   ],
   "source": [
    "logits.shape"
   ]
  },
  {
   "cell_type": "code",
   "execution_count": 23,
   "id": "58786aa8-928d-4575-affe-02b8561ee311",
   "metadata": {},
   "outputs": [],
   "source": [
    "counts = logits.exp()"
   ]
  },
  {
   "cell_type": "code",
   "execution_count": 24,
   "id": "8b8cc8ef-5032-4282-acbe-45d3fd31fb40",
   "metadata": {},
   "outputs": [],
   "source": [
    "probs = counts / counts.sum(1, keepdims=True)"
   ]
  },
  {
   "cell_type": "code",
   "execution_count": 25,
   "id": "41cc3291-f7be-4480-bb2d-9c0d4d7185cd",
   "metadata": {},
   "outputs": [
    {
     "data": {
      "text/plain": [
       "torch.Size([32, 27])"
      ]
     },
     "execution_count": 25,
     "metadata": {},
     "output_type": "execute_result"
    }
   ],
   "source": [
    "probs.shape"
   ]
  },
  {
   "cell_type": "code",
   "execution_count": 26,
   "id": "d0c77513-c8ae-40d8-aab7-c0d28f9f1c5b",
   "metadata": {},
   "outputs": [
    {
     "data": {
      "text/plain": [
       "tensor(1.0000)"
      ]
     },
     "execution_count": 26,
     "metadata": {},
     "output_type": "execute_result"
    }
   ],
   "source": [
    "probs[0].sum()"
   ]
  },
  {
   "cell_type": "code",
   "execution_count": 29,
   "id": "973e99fd-f4e5-4480-bfa5-8489838202fa",
   "metadata": {},
   "outputs": [
    {
     "data": {
      "text/plain": [
       "tensor([ 0,  1,  2,  3,  4,  5,  6,  7,  8,  9, 10, 11, 12, 13, 14, 15, 16, 17,\n",
       "        18, 19, 20, 21, 22, 23, 24, 25, 26, 27, 28, 29, 30, 31])"
      ]
     },
     "execution_count": 29,
     "metadata": {},
     "output_type": "execute_result"
    }
   ],
   "source": [
    "torch.arange(32)"
   ]
  },
  {
   "cell_type": "markdown",
   "id": "6bd69654-fd55-4094-8bc8-a605d7e313f1",
   "metadata": {},
   "source": [
    "#### Implementing the negative loss likelihood"
   ]
  },
  {
   "cell_type": "code",
   "execution_count": 31,
   "id": "2c932080-a406-4a34-86e1-5c9f7ed05a32",
   "metadata": {},
   "outputs": [
    {
     "data": {
      "text/plain": [
       "tensor(20.3209)"
      ]
     },
     "execution_count": 31,
     "metadata": {},
     "output_type": "execute_result"
    }
   ],
   "source": [
    "# index into the rows of prob and pluck out the probability to the correct character\n",
    "loss = -probs[torch.arange(32), Y].log().mean()\n",
    "loss"
   ]
  },
  {
   "cell_type": "markdown",
   "id": "c4348aed-92b1-4eb9-8be6-21757bcfc9fb",
   "metadata": {},
   "source": [
    "--------------------------- SUMMARY ----------------------------------------------"
   ]
  },
  {
   "cell_type": "code",
   "execution_count": 32,
   "id": "a3ef3b7e-1561-41ae-8bac-53cd70091205",
   "metadata": {},
   "outputs": [
    {
     "data": {
      "text/plain": [
       "(torch.Size([32, 3]), torch.Size([32]))"
      ]
     },
     "execution_count": 32,
     "metadata": {},
     "output_type": "execute_result"
    }
   ],
   "source": [
    "X.shape, Y.shape"
   ]
  },
  {
   "cell_type": "code",
   "execution_count": 39,
   "id": "57331bf2-bdb5-41b3-b71a-6203ebd45495",
   "metadata": {},
   "outputs": [],
   "source": [
    "g = torch.Generator().manual_seed(2147483647) # for reproducibility\n",
    "C = torch.randn((27,2), generator=g)\n",
    "W1 = torch.randn((6,100), generator=g)\n",
    "b1 = torch.randn(100, generator=g)\n",
    "W2 = torch.randn((100,27), generator=g)\n",
    "b2 = torch.randn(27, generator=g)\n",
    "parameters = [C, W1, b1, W2, b2]"
   ]
  },
  {
   "cell_type": "code",
   "execution_count": 40,
   "id": "29d618b9-e172-4887-ab0d-b6f9d54153bf",
   "metadata": {},
   "outputs": [
    {
     "data": {
      "text/plain": [
       "3481"
      ]
     },
     "execution_count": 40,
     "metadata": {},
     "output_type": "execute_result"
    }
   ],
   "source": [
    "sum(p.nelement() for p in parameters) # number of parameters in total"
   ]
  },
  {
   "cell_type": "code",
   "execution_count": 42,
   "id": "e29ccc5f-ad43-4e71-b1f2-4642a45089da",
   "metadata": {},
   "outputs": [
    {
     "data": {
      "text/plain": [
       "tensor(17.7697)"
      ]
     },
     "execution_count": 42,
     "metadata": {},
     "output_type": "execute_result"
    }
   ],
   "source": [
    "emb = C[X]\n",
    "h = torch.tanh(emb.view(-1,6) @ W1 + b1) # (32,100)\n",
    "logits = h @ W2 + b2 # (32,27)\n",
    "counts = logits.exp()\n",
    "prob = counts / counts.sum(1,keepdims=True)\n",
    "loss = -prob[torch.arange(32), Y].log().mean()\n",
    "loss\n"
   ]
  },
  {
   "cell_type": "code",
   "execution_count": null,
   "id": "b179c84f-a8f8-4a07-8f8b-b764c65a15e5",
   "metadata": {},
   "outputs": [],
   "source": []
  }
 ],
 "metadata": {
  "kernelspec": {
   "display_name": "Python 3 (ipykernel)",
   "language": "python",
   "name": "python3"
  },
  "language_info": {
   "codemirror_mode": {
    "name": "ipython",
    "version": 3
   },
   "file_extension": ".py",
   "mimetype": "text/x-python",
   "name": "python",
   "nbconvert_exporter": "python",
   "pygments_lexer": "ipython3",
   "version": "3.12.3"
  }
 },
 "nbformat": 4,
 "nbformat_minor": 5
}
